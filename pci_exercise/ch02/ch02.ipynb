{
 "cells": [
  {
   "cell_type": "code",
   "execution_count": 77,
   "metadata": {
    "collapsed": false
   },
   "outputs": [
    {
     "name": "stdout",
     "output_type": "stream",
     "text": [
      "The autoreload extension is already loaded. To reload it, use:\n",
      "  %reload_ext autoreload\n"
     ]
    }
   ],
   "source": [
    "%load_ext autoreload\n",
    "%autoreload 2\n",
    "from pprint import pprint"
   ]
  },
  {
   "cell_type": "markdown",
   "metadata": {
    "collapsed": true,
    "slideshow": {
     "slide_type": "slide"
    }
   },
   "source": [
    "## ユークリッド距離によるスコア"
   ]
  },
  {
   "cell_type": "code",
   "execution_count": 35,
   "metadata": {
    "collapsed": false,
    "slideshow": {
     "slide_type": "slide"
    }
   },
   "outputs": [
    {
     "data": {
      "text/plain": [
       "0.29429805508554946"
      ]
     },
     "execution_count": 35,
     "metadata": {},
     "output_type": "execute_result"
    }
   ],
   "source": [
    "import recommendations as rec\n",
    "rec.sim_distance(rec.critics, 'Lisa Rose', 'Gene Seymour')"
   ]
  },
  {
   "cell_type": "markdown",
   "metadata": {
    "slideshow": {
     "slide_type": "slide"
    }
   },
   "source": [
    "# pandas.DataFrameからのplot"
   ]
  },
  {
   "cell_type": "code",
   "execution_count": 4,
   "metadata": {
    "collapsed": false,
    "slideshow": {
     "slide_type": "slide"
    }
   },
   "outputs": [],
   "source": [
    "intersection = set(rec.critics['Lisa Rose'].keys()) & set(rec.critics['Gene Seymour'].keys())\n",
    "import pandas as pd\n",
    "df = pd.DataFrame({\n",
    "        'Lisa Rose': {k: v for k, v in rec.critics['Lisa Rose'].items() if k in intersection},\n",
    "        'Gene Seymour': {k: v for k, v in rec.critics['Gene Seymour'].items() if k in intersection}})"
   ]
  },
  {
   "cell_type": "code",
   "execution_count": 5,
   "metadata": {
    "collapsed": false,
    "slideshow": {
     "slide_type": "slide"
    }
   },
   "outputs": [
    {
     "data": {
      "text/html": [
       "<div style=\"max-height:1000px;max-width:1500px;overflow:auto;\">\n",
       "<table border=\"1\" class=\"dataframe\">\n",
       "  <thead>\n",
       "    <tr style=\"text-align: right;\">\n",
       "      <th></th>\n",
       "      <th>Gene Seymour</th>\n",
       "      <th>Lisa Rose</th>\n",
       "    </tr>\n",
       "  </thead>\n",
       "  <tbody>\n",
       "    <tr>\n",
       "      <th>Just My Luck</th>\n",
       "      <td>1.5</td>\n",
       "      <td>3.0</td>\n",
       "    </tr>\n",
       "    <tr>\n",
       "      <th>Lady in the Water</th>\n",
       "      <td>3.0</td>\n",
       "      <td>2.5</td>\n",
       "    </tr>\n",
       "    <tr>\n",
       "      <th>Snakes on a Plane</th>\n",
       "      <td>3.5</td>\n",
       "      <td>3.5</td>\n",
       "    </tr>\n",
       "    <tr>\n",
       "      <th>Superman Returns</th>\n",
       "      <td>5.0</td>\n",
       "      <td>3.5</td>\n",
       "    </tr>\n",
       "    <tr>\n",
       "      <th>The Night Listener</th>\n",
       "      <td>3.0</td>\n",
       "      <td>3.0</td>\n",
       "    </tr>\n",
       "    <tr>\n",
       "      <th>You, Me and Dupree</th>\n",
       "      <td>3.5</td>\n",
       "      <td>2.5</td>\n",
       "    </tr>\n",
       "  </tbody>\n",
       "</table>\n",
       "</div>"
      ],
      "text/plain": [
       "                    Gene Seymour  Lisa Rose\n",
       "Just My Luck                 1.5        3.0\n",
       "Lady in the Water            3.0        2.5\n",
       "Snakes on a Plane            3.5        3.5\n",
       "Superman Returns             5.0        3.5\n",
       "The Night Listener           3.0        3.0\n",
       "You, Me and Dupree           3.5        2.5"
      ]
     },
     "execution_count": 5,
     "metadata": {},
     "output_type": "execute_result"
    }
   ],
   "source": [
    "df"
   ]
  },
  {
   "cell_type": "code",
   "execution_count": 6,
   "metadata": {
    "collapsed": false,
    "scrolled": true,
    "slideshow": {
     "slide_type": "fragment"
    }
   },
   "outputs": [
    {
     "data": {
      "text/plain": [
       "<matplotlib.axes._subplots.AxesSubplot at 0x1072895c0>"
      ]
     },
     "execution_count": 6,
     "metadata": {},
     "output_type": "execute_result"
    },
    {
     "data": {
      "image/png": "[encoded data removed]",
      "text/plain": [
       "<matplotlib.figure.Figure at 0x104e59940>"
      ]
     },
     "metadata": {},
     "output_type": "display_data"
    }
   ],
   "source": [
    "%matplotlib inline\n",
    "df.plot()"
   ]
  },
  {
   "cell_type": "code",
   "execution_count": 8,
   "metadata": {
    "collapsed": false,
    "slideshow": {
     "slide_type": "notes"
    }
   },
   "outputs": [
    {
     "data": {
      "text/plain": [
       "<matplotlib.axes._subplots.AxesSubplot at 0x1072ada58>"
      ]
     },
     "execution_count": 8,
     "metadata": {},
     "output_type": "execute_result"
    },
    {
     "data": {
      "image/png": "[encoded data removed]",
      "text/plain": [
       "<matplotlib.figure.Figure at 0x10729bf28>"
      ]
     },
     "metadata": {},
     "output_type": "display_data"
    }
   ],
   "source": [
    "df.plot(kind='scatter', x='Lisa Rose', y='Gene Seymour')"
   ]
  },
  {
   "cell_type": "code",
   "execution_count": 22,
   "metadata": {
    "collapsed": false,
    "slideshow": {
     "slide_type": "slide"
    }
   },
   "outputs": [
    {
     "data": {
      "image/png": "[encoded data removed]",
      "text/plain": [
       "<matplotlib.figure.Figure at 0x1093c0898>"
      ]
     },
     "metadata": {},
     "output_type": "display_data"
    }
   ],
   "source": [
    "import matplotlib.pyplot as plt\n",
    "fig, ax = plt.subplots()\n",
    "df.plot(kind='scatter', x='Lisa Rose', y='Gene Seymour', ax=ax)\n",
    "for i, v in df.iterrows():\n",
    "        ax.text(v['Lisa Rose'], v['Gene Seymour'], v.name)"
   ]
  },
  {
   "cell_type": "markdown",
   "metadata": {},
   "source": [
    "## ピアソン相関に依るスコア"
   ]
  },
  {
   "cell_type": "code",
   "execution_count": 7,
   "metadata": {
    "collapsed": false
   },
   "outputs": [
    {
     "data": {
      "text/plain": [
       "0.39605901719066977"
      ]
     },
     "execution_count": 7,
     "metadata": {},
     "output_type": "execute_result"
    }
   ],
   "source": [
    "rec.sim_pearson(rec.critics, 'Lisa Rose', 'Gene Seymour')"
   ]
  },
  {
   "cell_type": "markdown",
   "metadata": {},
   "source": [
    "## 評者をランキングする"
   ]
  },
  {
   "cell_type": "code",
   "execution_count": 38,
   "metadata": {
    "collapsed": false
   },
   "outputs": [
    {
     "data": {
      "text/plain": [
       "[(0.9912407071619299, 'Lisa Rose'),\n",
       " (0.9244734516419049, 'Mick LaSalle'),\n",
       " (0.8934051474415647, 'Claudia Puig')]"
      ]
     },
     "execution_count": 38,
     "metadata": {},
     "output_type": "execute_result"
    }
   ],
   "source": [
    "import imp\n",
    "imp.reload(rec)\n",
    "rec.top_matches(rec.critics, 'Toby', n=3)"
   ]
  },
  {
   "cell_type": "markdown",
   "metadata": {},
   "source": [
    "## アイテムを推薦する"
   ]
  },
  {
   "cell_type": "code",
   "execution_count": 40,
   "metadata": {
    "collapsed": false
   },
   "outputs": [
    {
     "data": {
      "text/plain": [
       "[(3.3477895267131013, 'The Night Listener'),\n",
       " (2.832549918264162, 'Lady in the Water'),\n",
       " (2.5309807037655645, 'Just My Luck')]"
      ]
     },
     "execution_count": 40,
     "metadata": {},
     "output_type": "execute_result"
    }
   ],
   "source": [
    "rec.get_recommendations(rec.critics, 'Toby')"
   ]
  },
  {
   "cell_type": "code",
   "execution_count": 41,
   "metadata": {
    "collapsed": false
   },
   "outputs": [
    {
     "data": {
      "text/plain": [
       "[(3.457128694491423, 'The Night Listener'),\n",
       " (2.778584003814924, 'Lady in the Water'),\n",
       " (2.422482042361917, 'Just My Luck')]"
      ]
     },
     "execution_count": 41,
     "metadata": {},
     "output_type": "execute_result"
    }
   ],
   "source": [
    "rec.get_recommendations(rec.critics, 'Toby', similarity=rec.sim_distance)"
   ]
  },
  {
   "cell_type": "code",
   "execution_count": 43,
   "metadata": {
    "collapsed": false
   },
   "outputs": [
    {
     "data": {
      "text/plain": [
       "dict_keys(['Toby', 'Claudia Puig', 'Mick LaSalle', 'Gene Seymour', 'Michael Phillips', 'Jack Matthews', 'Lisa Rose'])"
      ]
     },
     "execution_count": 43,
     "metadata": {},
     "output_type": "execute_result"
    }
   ],
   "source": [
    "rec.critics.keys()"
   ]
  },
  {
   "cell_type": "markdown",
   "metadata": {},
   "source": [
    "### 筆者のための推薦の作成"
   ]
  },
  {
   "cell_type": "markdown",
   "metadata": {},
   "source": [
    "文中の私 -> 著者 -> Toby Segaran -> Toby"
   ]
  },
  {
   "cell_type": "code",
   "execution_count": 117,
   "metadata": {
    "collapsed": false,
    "scrolled": false
   },
   "outputs": [
    {
     "data": {
      "text/html": [
       "<div style=\"max-height:1000px;max-width:1500px;overflow:auto;\">\n",
       "<table border=\"1\" class=\"dataframe\">\n",
       "  <thead>\n",
       "    <tr style=\"text-align: right;\">\n",
       "      <th></th>\n",
       "      <th>sim</th>\n",
       "      <th>The Night Listener</th>\n",
       "      <th>S.The Night Listener</th>\n",
       "      <th>Lady in the Water</th>\n",
       "      <th>S.Lady in the Water</th>\n",
       "      <th>Just My Luck</th>\n",
       "      <th>S.Just My Luck</th>\n",
       "    </tr>\n",
       "  </thead>\n",
       "  <tbody>\n",
       "    <tr>\n",
       "      <th>Claudia Puig</th>\n",
       "      <td>0.893405</td>\n",
       "      <td>4.5</td>\n",
       "      <td>4.020323</td>\n",
       "      <td>NaN</td>\n",
       "      <td>NaN</td>\n",
       "      <td>3.0</td>\n",
       "      <td>2.680215</td>\n",
       "    </tr>\n",
       "    <tr>\n",
       "      <th>Gene Seymour</th>\n",
       "      <td>0.381246</td>\n",
       "      <td>3.0</td>\n",
       "      <td>1.143739</td>\n",
       "      <td>3.0</td>\n",
       "      <td>1.143739</td>\n",
       "      <td>1.5</td>\n",
       "      <td>0.571870</td>\n",
       "    </tr>\n",
       "    <tr>\n",
       "      <th>Jack Matthews</th>\n",
       "      <td>0.662849</td>\n",
       "      <td>3.0</td>\n",
       "      <td>1.988547</td>\n",
       "      <td>3.0</td>\n",
       "      <td>1.988547</td>\n",
       "      <td>NaN</td>\n",
       "      <td>NaN</td>\n",
       "    </tr>\n",
       "    <tr>\n",
       "      <th>Lisa Rose</th>\n",
       "      <td>0.991241</td>\n",
       "      <td>3.0</td>\n",
       "      <td>2.973722</td>\n",
       "      <td>2.5</td>\n",
       "      <td>2.478102</td>\n",
       "      <td>3.0</td>\n",
       "      <td>2.973722</td>\n",
       "    </tr>\n",
       "    <tr>\n",
       "      <th>Mick LaSalle</th>\n",
       "      <td>0.924473</td>\n",
       "      <td>3.0</td>\n",
       "      <td>2.773420</td>\n",
       "      <td>3.0</td>\n",
       "      <td>2.773420</td>\n",
       "      <td>2.0</td>\n",
       "      <td>1.848947</td>\n",
       "    </tr>\n",
       "    <tr>\n",
       "      <th>sum</th>\n",
       "      <td>3.853215</td>\n",
       "      <td>16.5</td>\n",
       "      <td>12.899752</td>\n",
       "      <td>11.5</td>\n",
       "      <td>8.383808</td>\n",
       "      <td>9.5</td>\n",
       "      <td>8.074754</td>\n",
       "    </tr>\n",
       "  </tbody>\n",
       "</table>\n",
       "</div>"
      ],
      "text/plain": [
       "                    sim  The Night Listener  S.The Night Listener  \\\n",
       "Claudia Puig   0.893405                 4.5              4.020323   \n",
       "Gene Seymour   0.381246                 3.0              1.143739   \n",
       "Jack Matthews  0.662849                 3.0              1.988547   \n",
       "Lisa Rose      0.991241                 3.0              2.973722   \n",
       "Mick LaSalle   0.924473                 3.0              2.773420   \n",
       "sum            3.853215                16.5             12.899752   \n",
       "\n",
       "               Lady in the Water  S.Lady in the Water  Just My Luck  \\\n",
       "Claudia Puig                 NaN                  NaN           3.0   \n",
       "Gene Seymour                 3.0             1.143739           1.5   \n",
       "Jack Matthews                3.0             1.988547           NaN   \n",
       "Lisa Rose                    2.5             2.478102           3.0   \n",
       "Mick LaSalle                 3.0             2.773420           2.0   \n",
       "sum                         11.5             8.383808           9.5   \n",
       "\n",
       "               S.Just My Luck  \n",
       "Claudia Puig         2.680215  \n",
       "Gene Seymour         0.571870  \n",
       "Jack Matthews             NaN  \n",
       "Lisa Rose            2.973722  \n",
       "Mick LaSalle         1.848947  \n",
       "sum                  8.074754  "
      ]
     },
     "execution_count": 117,
     "metadata": {},
     "output_type": "execute_result"
    }
   ],
   "source": [
    "author = 'Toby'\n",
    "rec.top_matches(rec.critics, author)\n",
    "critics_other = {k: v for k, v in rec.critics.items() if k not in (author, 'Michael Phillips')}\n",
    "titles = ['The Night Listener', 'Lady in the Water', 'Just My Luck']\n",
    "\n",
    "df = pd.DataFrame({\n",
    "        'sim': {critic: sim for sim, critic in rec.top_matches(rec.critics, author)},\n",
    "})\n",
    "for title in titles:\n",
    "    df[title] = pd.Series({k: v[title] for k, v in critics_other.items() if title in v})\n",
    "    df['S.' + title] = df[title] * df['sim']\n",
    "\n",
    "s = df.sum()\n",
    "df = df.append(pd.DataFrame({'sum': s}).T)\n",
    "df\n",
    "# sim. sum (NaN以外のsimのsum)"
   ]
  },
  {
   "cell_type": "markdown",
   "metadata": {},
   "source": [
    "## 似ている製品"
   ]
  },
  {
   "cell_type": "code",
   "execution_count": 119,
   "metadata": {
    "collapsed": false
   },
   "outputs": [
    {
     "data": {
      "text/plain": [
       "[(0.6579516949597695, 'You, Me and Dupree'),\n",
       " (0.4879500364742689, 'Lady in the Water'),\n",
       " (0.11180339887498941, 'Snakes on a Plane'),\n",
       " (-0.1798471947990544, 'The Night Listener'),\n",
       " (-0.42289003161103106, 'Just My Luck')]"
      ]
     },
     "execution_count": 119,
     "metadata": {},
     "output_type": "execute_result"
    }
   ],
   "source": [
    "movies = rec.transform_prefs(rec.critics)\n",
    "rec.top_matches(movies, 'Superman Returns')"
   ]
  },
  {
   "cell_type": "code",
   "execution_count": 120,
   "metadata": {
    "collapsed": false
   },
   "outputs": [
    {
     "data": {
      "text/plain": [
       "[(4.0, 'Michael Phillips'), (3.0, 'Jack Matthews')]"
      ]
     },
     "execution_count": 120,
     "metadata": {},
     "output_type": "execute_result"
    }
   ],
   "source": [
    "rec.get_recommendations(movies, 'Just My Luck')"
   ]
  },
  {
   "cell_type": "markdown",
   "metadata": {},
   "source": [
    "### 相関のグラフ"
   ]
  },
  {
   "cell_type": "code",
   "execution_count": 132,
   "metadata": {
    "collapsed": false
   },
   "outputs": [
    {
     "data": {
      "text/html": [
       "<div style=\"max-height:1000px;max-width:1500px;overflow:auto;\">\n",
       "<table border=\"1\" class=\"dataframe\">\n",
       "  <thead>\n",
       "    <tr style=\"text-align: right;\">\n",
       "      <th></th>\n",
       "      <th>Just My Luck</th>\n",
       "      <th>Superman Returns</th>\n",
       "    </tr>\n",
       "  </thead>\n",
       "  <tbody>\n",
       "    <tr>\n",
       "      <th>Claudia Puig</th>\n",
       "      <td>3.0</td>\n",
       "      <td>4.0</td>\n",
       "    </tr>\n",
       "    <tr>\n",
       "      <th>Gene Seymour</th>\n",
       "      <td>1.5</td>\n",
       "      <td>5.0</td>\n",
       "    </tr>\n",
       "    <tr>\n",
       "      <th>Jack Matthews</th>\n",
       "      <td>NaN</td>\n",
       "      <td>5.0</td>\n",
       "    </tr>\n",
       "    <tr>\n",
       "      <th>Lisa Rose</th>\n",
       "      <td>3.0</td>\n",
       "      <td>3.5</td>\n",
       "    </tr>\n",
       "    <tr>\n",
       "      <th>Michael Phillips</th>\n",
       "      <td>NaN</td>\n",
       "      <td>3.5</td>\n",
       "    </tr>\n",
       "    <tr>\n",
       "      <th>Mick LaSalle</th>\n",
       "      <td>2.0</td>\n",
       "      <td>3.0</td>\n",
       "    </tr>\n",
       "    <tr>\n",
       "      <th>Toby</th>\n",
       "      <td>NaN</td>\n",
       "      <td>4.0</td>\n",
       "    </tr>\n",
       "  </tbody>\n",
       "</table>\n",
       "</div>"
      ],
      "text/plain": [
       "                  Just My Luck  Superman Returns\n",
       "Claudia Puig               3.0               4.0\n",
       "Gene Seymour               1.5               5.0\n",
       "Jack Matthews              NaN               5.0\n",
       "Lisa Rose                  3.0               3.5\n",
       "Michael Phillips           NaN               3.5\n",
       "Mick LaSalle               2.0               3.0\n",
       "Toby                       NaN               4.0"
      ]
     },
     "execution_count": 132,
     "metadata": {},
     "output_type": "execute_result"
    }
   ],
   "source": [
    "df_moveis = pd.DataFrame({\n",
    "        'Just My Luck': movies['Just My Luck'],\n",
    "        'Superman Returns': movies['Superman Returns'],\n",
    "})\n",
    "df_moveis"
   ]
  },
  {
   "cell_type": "code",
   "execution_count": 193,
   "metadata": {
    "collapsed": false,
    "scrolled": true
   },
   "outputs": [
    {
     "name": "stdout",
     "output_type": "stream",
     "text": [
      "(-0.48148148148148145,\n",
      " 5.0185185185185182,\n",
      " -0.42289003161103106,\n",
      " 0.577109968388969,\n",
      " 0.72954502235526697)\n"
     ]
    },
    {
     "data": {
      "text/html": [
       "<div style=\"max-height:1000px;max-width:1500px;overflow:auto;\">\n",
       "<table border=\"1\" class=\"dataframe\">\n",
       "  <thead>\n",
       "    <tr style=\"text-align: right;\">\n",
       "      <th></th>\n",
       "      <th>Just My Luck</th>\n",
       "      <th>Superman Returns</th>\n",
       "    </tr>\n",
       "  </thead>\n",
       "  <tbody>\n",
       "    <tr>\n",
       "      <th>Claudia Puig</th>\n",
       "      <td>3.0</td>\n",
       "      <td>4.0</td>\n",
       "    </tr>\n",
       "    <tr>\n",
       "      <th>Gene Seymour</th>\n",
       "      <td>1.5</td>\n",
       "      <td>5.0</td>\n",
       "    </tr>\n",
       "    <tr>\n",
       "      <th>Lisa Rose</th>\n",
       "      <td>3.0</td>\n",
       "      <td>3.5</td>\n",
       "    </tr>\n",
       "    <tr>\n",
       "      <th>Mick LaSalle</th>\n",
       "      <td>2.0</td>\n",
       "      <td>3.0</td>\n",
       "    </tr>\n",
       "  </tbody>\n",
       "</table>\n",
       "</div>"
      ],
      "text/plain": [
       "              Just My Luck  Superman Returns\n",
       "Claudia Puig           3.0               4.0\n",
       "Gene Seymour           1.5               5.0\n",
       "Lisa Rose              3.0               3.5\n",
       "Mick LaSalle           2.0               3.0"
      ]
     },
     "execution_count": 193,
     "metadata": {},
     "output_type": "execute_result"
    },
    {
     "data": {
      "image/png": "[encoded data removed]",
      "text/plain": [
       "<matplotlib.figure.Figure at 0x1131307f0>"
      ]
     },
     "metadata": {},
     "output_type": "display_data"
    }
   ],
   "source": [
    "df_moveis = df_moveis[df_moveis['Just My Luck'].notnull()]\n",
    "x = df_moveis['Just My Luck']\n",
    "y = df_moveis['Superman Returns']\n",
    "# n * m, index:N\n",
    "fig, ax = plt.subplots()\n",
    "ax.set_xlim(0, x.max() + 1)\n",
    "ax.set_ylim(0, y.max() + 1)\n",
    "for i, v in df_moveis.iterrows():\n",
    "        ax.text(v['Just My Luck'], v['Superman Returns'], v.name)\n",
    "#plt.scatter(x=x, y=y)\n",
    "ax.set_title('title', size=18)\n",
    "\n",
    "# add line\n",
    "from matplotlib import lines\n",
    "from scipy.stats import linregress\n",
    "slope, intercept, r_value, p_pavlue, stderr = linregress(x,y)\n",
    "pprint((slope, intercept, r_value, p_pavlue, stderr,))\n",
    "\n",
    "y_pos = lambda x: x * slope + intercept\n",
    "line = lines.Line2D([0, x.max()], [y_pos(0), y_pos(x.max())], color='r', linestyle='--', linewidth=3.5)\n",
    "ax.add_line(line)\n",
    "\n",
    "df_moveis.plot(kind='scatter', x='Just My Luck', y='Superman Returns', ax=ax)\n",
    "df_moveis"
   ]
  },
  {
   "cell_type": "markdown",
   "metadata": {},
   "source": [
    "### result of linregress\n",
    "- slope : float, slope of the regression line\n",
    "- intercept : float, intercept of the regression line\n",
    "- r-value : float, correlation coefficient\n",
    "- p-value : float, two-sided p-value for a hypothesis test whose null hypothesis is that the slope is zero\n",
    "- stderr : float, Standard error of the estimate"
   ]
  }
 ],
 "metadata": {
  "kernelspec": {
   "display_name": "Python 3",
   "language": "python",
   "name": "python3"
  },
  "language_info": {
   "codemirror_mode": {
    "name": "ipython",
    "version": 3
   },
   "file_extension": ".py",
   "mimetype": "text/x-python",
   "name": "python",
   "nbconvert_exporter": "python",
   "pygments_lexer": "ipython3",
   "version": "3.4.3"
  }
 },
 "nbformat": 4,
 "nbformat_minor": 0
}
