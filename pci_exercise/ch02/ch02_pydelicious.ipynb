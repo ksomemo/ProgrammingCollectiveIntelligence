{
 "cells": [
  {
   "cell_type": "code",
   "execution_count": 1,
   "metadata": {
    "collapsed": false
   },
   "outputs": [
    {
     "name": "stdout",
     "output_type": "stream",
     "text": [
      "dlcs_rss_request http://del.icio.us/rss/tag/programming\n"
     ]
    },
    {
     "name": "stderr",
     "output_type": "stream",
     "text": [
      "Set socket timeout to 444 seconds\n"
     ]
    },
    {
     "data": {
      "text/plain": [
       "[{'description': 'Firebreath- Drawing and handling WINPROC events on Windows',\n",
       "  'dt': '',\n",
       "  'extended': '',\n",
       "  'tags': 'programming',\n",
       "  'url': 'http://colonelpanic.net/2010/11/firebreath-tips-drawing-on-windows/',\n",
       "  'user': ''},\n",
       " {'description': 'twitter.com',\n",
       "  'dt': '',\n",
       "  'extended': '',\n",
       "  'tags': 'programming',\n",
       "  'url': 'https://twitter.com/ikravets/status/583734858695974912',\n",
       "  'user': ''},\n",
       " {'description': 'How to Work with a Friend (Without Driving Each Other Nuts)',\n",
       "  'dt': '',\n",
       "  'extended': '',\n",
       "  'tags': 'programming',\n",
       "  'url': 'http://gizmodo.com/how-to-work-with-a-friend-without-driving-each-other-n-1693346157',\n",
       "  'user': ''},\n",
       " {'description': 'www.devbattles.com',\n",
       "  'dt': '',\n",
       "  'extended': '',\n",
       "  'tags': 'programming',\n",
       "  'url': 'http://www.devbattles.com/en/sand/post-986-How+programming+works,+explained+to+a+12yearold',\n",
       "  'user': ''},\n",
       " {'description': 'lnkd.in',\n",
       "  'dt': '',\n",
       "  'extended': '',\n",
       "  'tags': 'programming',\n",
       "  'url': 'https://lnkd.in/brtt4Sh',\n",
       "  'user': ''},\n",
       " {'description': 'COM자동등록- RegAsm.exe 사용 특정 DLL 등록. | 마을 :: 컨텐츠 상세보기',\n",
       "  'dt': '',\n",
       "  'extended': '',\n",
       "  'tags': 'programming',\n",
       "  'url': 'http://www.devpia.com/MAEUL/Contents/Detail.aspx?BoardID=32&MAEULNO=13&no=23062&ref=23062',\n",
       "  'user': ''},\n",
       " {'description': '★★★읽어볼것- COM 강좌 & 문자열 강좌',\n",
       "  'dt': '',\n",
       "  'extended': '',\n",
       "  'tags': 'programming',\n",
       "  'url': 'http://bektekk.wo.to/',\n",
       "  'user': ''},\n",
       " {'description': 'Language Processing - 2장. 윈도우즈(C/C )에서 문자열 사용법(BSTR, VARIANT)',\n",
       "  'dt': '',\n",
       "  'extended': '',\n",
       "  'tags': 'programming',\n",
       "  'url': 'http://www.nicklib.com/index.php?mid=nlp&category=2239&document_srl=2222&sort_index=readed_count&order_type=asc',\n",
       "  'user': ''},\n",
       " {'description': 'Language Processing - 3장. 윈도우즈(C )에서 문자열 사용법 1부(_bstr_t, _variant_t, CComBSTR)',\n",
       "  'dt': '',\n",
       "  'extended': '',\n",
       "  'tags': 'programming',\n",
       "  'url': 'http://www.nicklib.com/index.php?mid=nlp&category=2239&document_srl=2226&sort_index=readed_count&order_type=asc',\n",
       "  'user': ''},\n",
       " {'description': 'Passing Unicode strings between C# and C/C++ dynamic link libraries',\n",
       "  'dt': '',\n",
       "  'extended': '',\n",
       "  'tags': 'programming',\n",
       "  'url': 'http://dominoc925.blogspot.kr/2011/10/passing-unicode-strings-between-c-and.html',\n",
       "  'user': ''}]"
      ]
     },
     "execution_count": 1,
     "metadata": {},
     "output_type": "execute_result"
    }
   ],
   "source": [
    "import pydelicious\n",
    "pydelicious.get_tagposts(tag='programming')"
   ]
  },
  {
   "cell_type": "code",
   "execution_count": 2,
   "metadata": {
    "collapsed": false
   },
   "outputs": [],
   "source": [
    "entry_sample = {'author': '',\n",
    " 'authors': [{}],\n",
    " 'comments': 'http://delicious.com/url/bbeb53d542c1bdf8b3077fb94287513d',\n",
    " 'guidislink': False,\n",
    " 'id': 'http://delicious.com/url/bbeb53d542c1bdf8b3077fb94287513d#',\n",
    " 'link': 'http://colonelpanic.net/2010/11/firebreath-tips-drawing-on-windows/',\n",
    " 'links': [{'href': 'http://colonelpanic.net/2010/11/firebreath-tips-drawing-on-windows/',\n",
    "            'rel': 'alternate',\n",
    "            'type': 'text/html'}],\n",
    " 'published': 'Fri, 03 Apr 2015 14:27:46 +0000',\n",
    " # 'published_parsed': time.struct_time(tm_year=2015, tm_mon=4, tm_mday=3, tm_hour=14, tm_min=27, tm_sec=46, tm_wday=4, tm_yday=93, tm_isdst=0),\n",
    " 'source': {'href': 'http://feeds.delicious.com/v2/rss/', 'title': \"'s links\"},\n",
    " 'summary': '',\n",
    " 'summary_detail': {'base': '',\n",
    "                    'language': None,\n",
    "                    'type': 'text/html',\n",
    "                    'value': ''},\n",
    " 'tags': [{'label': None,\n",
    "           'scheme': 'http://delicious.com//',\n",
    "           'term': 'programming'}],\n",
    " 'title': 'Firebreath- Drawing and handling WINPROC events on Windows',\n",
    " 'title_detail': {'base': '',\n",
    "                  'language': None,\n",
    "                  'type': 'text/plain',\n",
    "                  'value': 'Firebreath- Drawing and handling WINPROC events '\n",
    "                           'on Windows'},\n",
    " 'wfw_commentrss': 'http://feeds.delicious.com/v2/rss/url/bbeb53d542c1bdf8b3077fb94287513d'}\n",
    "# <class 'feedparser.FeedParserDict'>"
   ]
  },
  {
   "cell_type": "code",
   "execution_count": 47,
   "metadata": {
    "collapsed": false,
    "scrolled": false
   },
   "outputs": [
    {
     "name": "stdout",
     "output_type": "stream",
     "text": [
      "dlcs_rss_request http://del.icio.us/rss/tag/programming?count=50\n",
      "dlcs_rss_request http://del.icio.us/rss/url/bbeb53d542c1bdf8b3077fb94287513d\n",
      "dlcs_rss_request http://del.icio.us/rss/url/a0c628dc7d6b7713f6d128b2f02762a2\n",
      "dlcs_rss_request http://del.icio.us/rss/url/c537cc4532456e877159bd310c6958ba\n",
      "dlcs_rss_request http://del.icio.us/rss/url/f83d69cf3209d7b0cbde6646e8e4b141\n",
      "dlcs_rss_request http://del.icio.us/rss/url/256beae7d826825cf4b25c7eb8bda1dd\n",
      "dlcs_rss_request http://del.icio.us/rss/url/c5f058cb2efa09cff0ec25f3a9774225\n",
      "dlcs_rss_request http://del.icio.us/rss/url/a92b15f07cd9478a98f96434ae84a6a5\n",
      "dlcs_rss_request http://del.icio.us/rss/url/6a1f8af515bc9b379695b3521f1b7146\n",
      "dlcs_rss_request http://del.icio.us/rss/url/d3d7f5e3ced57c5f1723fd5155645561\n",
      "dlcs_rss_request http://del.icio.us/rss/url/82ae60212ca2fc66b8b8e98b0b58abde\n"
     ]
    }
   ],
   "source": [
    "from deliciousrec import initialize_user_dict, fill_items\n",
    "delusers = initialize_user_dict('programming', count=50)"
   ]
  },
  {
   "cell_type": "code",
   "execution_count": 48,
   "metadata": {
    "collapsed": false
   },
   "outputs": [
    {
     "name": "stdout",
     "output_type": "stream",
     "text": [
      "dlcs_rss_request http://del.icio.us/rss/theateam\n"
     ]
    },
    {
     "data": {
      "text/plain": [
       "{'': {'http://cachemywork.codeplex.com/': 0.0,\n",
       "  'http://cafe.naver.com/swtester/63': 0.0,\n",
       "  'http://everysolutionshere.blogspot.in/2014/01/how-to-capture-screen-in-c.html': 0.0,\n",
       "  'http://stackoverflow.com/questions/8244470/windows-forms-application-visual-style': 0.0,\n",
       "  'http://superuser.com/questions/94943/restoring-open-software-after-a-restart-event-in-windows': 0.0,\n",
       "  'http://www.codeproject.com/Articles/21913/TeboScreen-Basic-C-Screen-Capture-Application': 0.0,\n",
       "  'http://www.gisdeveloper.co.kr/entry/C-%EC%9D%BC%EB%B0%98-%EC%BB%A8%ED%8A%B8%EB%A1%A4%EC%97%90-%ED%88%B4%ED%8C%81-%EA%B8%B0%EB%8A%A5-%EB%B6%80%EC%97%AC%ED%95%98%EA%B8%B0': 0.0,\n",
       "  'http://www.telerik.com/account/your-products/product-versions.aspx?version=1e4710ff-4b35-e511-80d1-a0369f015862&product=RCWPF': 0.0,\n",
       "  'https://msdn.microsoft.com/en-us/library/system.windows.forms.control.pointtoscreen.aspx': 0.0,\n",
       "  'https://www.youtube.com/watch?v=x-tMlZ3LTw8': 0.0},\n",
       " 'theateam': {'http://cachemywork.codeplex.com/': 1.0,\n",
       "  'http://cafe.naver.com/swtester/63': 1.0,\n",
       "  'http://everysolutionshere.blogspot.in/2014/01/how-to-capture-screen-in-c.html': 1.0,\n",
       "  'http://stackoverflow.com/questions/8244470/windows-forms-application-visual-style': 1.0,\n",
       "  'http://superuser.com/questions/94943/restoring-open-software-after-a-restart-event-in-windows': 1.0,\n",
       "  'http://www.codeproject.com/Articles/21913/TeboScreen-Basic-C-Screen-Capture-Application': 1.0,\n",
       "  'http://www.gisdeveloper.co.kr/entry/C-%EC%9D%BC%EB%B0%98-%EC%BB%A8%ED%8A%B8%EB%A1%A4%EC%97%90-%ED%88%B4%ED%8C%81-%EA%B8%B0%EB%8A%A5-%EB%B6%80%EC%97%AC%ED%95%98%EA%B8%B0': 1.0,\n",
       "  'http://www.telerik.com/account/your-products/product-versions.aspx?version=1e4710ff-4b35-e511-80d1-a0369f015862&product=RCWPF': 1.0,\n",
       "  'https://msdn.microsoft.com/en-us/library/system.windows.forms.control.pointtoscreen.aspx': 1.0,\n",
       "  'https://www.youtube.com/watch?v=x-tMlZ3LTw8': 1.0}}"
      ]
     },
     "execution_count": 48,
     "metadata": {},
     "output_type": "execute_result"
    }
   ],
   "source": [
    "#delusers['ksomemo'] = {}\n",
    "fill_items(delusers)\n",
    "delusers"
   ]
  },
  {
   "cell_type": "code",
   "execution_count": 49,
   "metadata": {
    "collapsed": false
   },
   "outputs": [
    {
     "data": {
      "text/plain": [
       "'theateam'"
      ]
     },
     "execution_count": 49,
     "metadata": {},
     "output_type": "execute_result"
    }
   ],
   "source": [
    "import random\n",
    "del delusers['']\n",
    "user = list(delusers.keys())[random.randint(0, len(delusers) - 1)]\n",
    "user"
   ]
  },
  {
   "cell_type": "code",
   "execution_count": 50,
   "metadata": {
    "collapsed": false
   },
   "outputs": [
    {
     "data": {
      "text/plain": [
       "[]"
      ]
     },
     "execution_count": 50,
     "metadata": {},
     "output_type": "execute_result"
    }
   ],
   "source": [
    "import recommendations as rec\n",
    "rec.top_matches(delusers, user)"
   ]
  },
  {
   "cell_type": "code",
   "execution_count": 52,
   "metadata": {
    "collapsed": false
   },
   "outputs": [
    {
     "data": {
      "text/plain": [
       "[]"
      ]
     },
     "execution_count": 52,
     "metadata": {},
     "output_type": "execute_result"
    }
   ],
   "source": [
    "rec.get_recommendations(delusers, user)[0:10]"
   ]
  },
  {
   "cell_type": "code",
   "execution_count": 53,
   "metadata": {
    "collapsed": false
   },
   "outputs": [
    {
     "ename": "IndexError",
     "evalue": "list index out of range",
     "output_type": "error",
     "traceback": [
      "\u001b[0;31m---------------------------------------------------------------------------\u001b[0m",
      "\u001b[0;31mIndexError\u001b[0m                                Traceback (most recent call last)",
      "\u001b[0;32m<ipython-input-53-eda6c34cf0c2>\u001b[0m in \u001b[0;36m<module>\u001b[0;34m()\u001b[0m\n\u001b[0;32m----> 1\u001b[0;31m \u001b[0murl\u001b[0m \u001b[0;34m=\u001b[0m \u001b[0mrec\u001b[0m\u001b[0;34m.\u001b[0m\u001b[0mget_recommendations\u001b[0m\u001b[0;34m(\u001b[0m\u001b[0mdelusers\u001b[0m\u001b[0;34m,\u001b[0m \u001b[0muser\u001b[0m\u001b[0;34m)\u001b[0m\u001b[0;34m[\u001b[0m\u001b[0;36m0\u001b[0m\u001b[0;34m]\u001b[0m\u001b[0;34m[\u001b[0m\u001b[0;36m1\u001b[0m\u001b[0;34m]\u001b[0m\u001b[0;34m\u001b[0m\u001b[0m\n\u001b[0m\u001b[1;32m      2\u001b[0m \u001b[0mrec\u001b[0m\u001b[0;34m.\u001b[0m\u001b[0mtop_matches\u001b[0m\u001b[0;34m(\u001b[0m\u001b[0mrec\u001b[0m\u001b[0;34m.\u001b[0m\u001b[0mtransform_prefs\u001b[0m\u001b[0;34m(\u001b[0m\u001b[0mdelusers\u001b[0m\u001b[0;34m)\u001b[0m\u001b[0;34m,\u001b[0m \u001b[0murl\u001b[0m\u001b[0;34m)\u001b[0m\u001b[0;34m\u001b[0m\u001b[0m\n",
      "\u001b[0;31mIndexError\u001b[0m: list index out of range"
     ]
    }
   ],
   "source": [
    "url = rec.get_recommendations(delusers, user)[0][1]\n",
    "rec.top_matches(rec.transform_prefs(delusers), url)"
   ]
  }
 ],
 "metadata": {
  "kernelspec": {
   "display_name": "Python 3",
   "language": "python",
   "name": "python3"
  },
  "language_info": {
   "codemirror_mode": {
    "name": "ipython",
    "version": 3
   },
   "file_extension": ".py",
   "mimetype": "text/x-python",
   "name": "python",
   "nbconvert_exporter": "python",
   "pygments_lexer": "ipython3",
   "version": "3.4.3"
  }
 },
 "nbformat": 4,
 "nbformat_minor": 0
}
